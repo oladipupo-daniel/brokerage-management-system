{
 "cells": [
  {
   "cell_type": "code",
   "execution_count": 10,
   "id": "dafb2f03-183c-4816-a48a-0662a0f48fba",
   "metadata": {},
   "outputs": [
    {
     "name": "stdin",
     "output_type": "stream",
     "text": [
      "Enter your MySQL password:  ········\n"
     ]
    },
    {
     "name": "stdout",
     "output_type": "stream",
     "text": [
      "✅ Connection established.\n"
     ]
    }
   ],
   "source": [
    "import mysql.connector as connector\n",
    "import getpass\n",
    "\n",
    "# Prompt for password securely\n",
    "db_password = getpass.getpass(\"Enter your MySQL password: \")\n",
    "\n",
    "# Connect to the database\n",
    "conn = connector.connect(\n",
    "    host=\"localhost\",           # or your cloud host\n",
    "    user=\"root\",\n",
    "    password=db_password,\n",
    "    database=\"brokerage_db\"\n",
    ")\n",
    "\n",
    "if conn.is_connected():\n",
    "    print(\"✅ Connection established.\")\n",
    "else:\n",
    "    print(\"❌ Connection failed.\")\n"
   ]
  },
  {
   "cell_type": "code",
   "execution_count": null,
   "id": "7bce06d8-01a3-467a-b141-5512aa9fadec",
   "metadata": {},
   "outputs": [],
   "source": []
  }
 ],
 "metadata": {
  "kernelspec": {
   "display_name": "Python 3 (ipykernel)",
   "language": "python",
   "name": "python3"
  },
  "language_info": {
   "codemirror_mode": {
    "name": "ipython",
    "version": 3
   },
   "file_extension": ".py",
   "mimetype": "text/x-python",
   "name": "python",
   "nbconvert_exporter": "python",
   "pygments_lexer": "ipython3",
   "version": "3.12.3"
  }
 },
 "nbformat": 4,
 "nbformat_minor": 5
}
